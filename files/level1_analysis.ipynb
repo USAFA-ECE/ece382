{
  "cells": [
    {
      "cell_type": "code",
      "execution_count": null,
      "metadata": {
        "id": "PDStCd6pwD4S"
      },
      "outputs": [],
      "source": [
        "import io\n",
        "import pandas as pd\n",
        "\n",
        "\n",
        "filename = \"./level1b.csv\"\n",
        "df2 = pd.read_csv(filename)\n",
        "\n",
        "data = df2.to_numpy()  # convert data frame to numpy arrays\n",
        "index = data[:, 0]  # index, unit = 10ms\n",
        "time_sec = index / 100  # time in seconds\n",
        "left_speed = data[:, 1]  # left wheel speed in rpm\n",
        "rigth_speed = data[:, 2]  # right wheel speed in rpm\n",
        "location_x = data[:, 3] / 1000  # x location in m\n",
        "location_y = data[:, 4] / 1000  # y location in m"
      ]
    },
    {
      "cell_type": "code",
      "execution_count": null,
      "metadata": {
        "colab": {
          "base_uri": "https://localhost:8080/",
          "height": 279
        },
        "id": "QCojGDnrXypU",
        "outputId": "fbf848bf-2c5a-4991-f7a1-420956f2011f"
      },
      "outputs": [],
      "source": [
        "import matplotlib.pyplot as plt\n",
        "\n",
        "plt.plot(time_sec, left_speed, label=\"Left Speed\")\n",
        "plt.plot(time_sec, rigth_speed, label=\"Right Speed\")\n",
        "plt.grid()\n",
        "plt.legend()\n",
        "plt.xlabel(\"time (sec)\")\n",
        "plt.ylabel(\"Speed (RPM)\")\n",
        "# plt.ylim([0, 6000])    # observe your plot first and then uncomment this line.\n",
        "# Why do you have period values greater than 60,000?\n",
        "\n",
        "# filename_periods = \"Lab16_periods.png\"\n",
        "# plt.savefig(filename_periods)\n",
        "# plt.show()"
      ]
    },
    {
      "cell_type": "code",
      "execution_count": null,
      "metadata": {
        "colab": {
          "base_uri": "https://localhost:8080/",
          "height": 279
        },
        "id": "tLGt11dSKLFp",
        "outputId": "60ddc064-39f4-4199-a5f1-bae9198c2187"
      },
      "outputs": [],
      "source": [
        "plt.plot(location_x, location_y)\n",
        "plt.grid()\n",
        "plt.legend()\n",
        "plt.xlabel(\"lateral (m)\")\n",
        "plt.ylabel(\"longitudinal (m)\")\n",
        "ax = plt.gca()\n",
        "ax.set_aspect(\"equal\", adjustable=\"box\")\n",
        "# plt.ylim([0, 500])    # observe your plot first and then uncomment this line.\n",
        "\n",
        "# filename_speeds =\"Lab16_speeds.png\"\n",
        "# plt.savefig(filename_speeds)\n",
        "# plt.show()"
      ]
    }
  ],
  "metadata": {
    "colab": {
      "collapsed_sections": [],
      "provenance": []
    },
    "kernelspec": {
      "display_name": "Python 3",
      "name": "python3"
    },
    "language_info": {
      "codemirror_mode": {
        "name": "ipython",
        "version": 3
      },
      "file_extension": ".py",
      "mimetype": "text/x-python",
      "name": "python",
      "nbconvert_exporter": "python",
      "pygments_lexer": "ipython3",
      "version": "3.11.1"
    }
  },
  "nbformat": 4,
  "nbformat_minor": 0
}
