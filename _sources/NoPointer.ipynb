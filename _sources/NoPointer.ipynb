{
 "cells": [
  {
   "attachments": {},
   "cell_type": "markdown",
   "metadata": {},
   "source": [
    "# ↗️ No Pointers in Python?\n"
   ]
  },
  {
   "attachments": {},
   "cell_type": "markdown",
   "metadata": {},
   "source": [
    "<hr>"
   ]
  },
  {
   "attachments": {},
   "cell_type": "markdown",
   "metadata": {
    "tags": []
   },
   "source": [
    "To run your code in Colab, click on the rocket icon at the top of this page. ![Colab](https://colab.research.google.com/assets/colab-badge.svg)\n",
    "<br>\n",
    "\n",
    "I've come across numerous computer science and engineering students who mistakenly believe that languages such as Java, Python, C#, and Objective-C don't incorporate the concept of pointers. Many of them share a common sentiment, saying, \"I prefer Python/Java/C# because I don't have to deal with those _tricky_ pointers.\"\n",
    "\n",
    "Personally, I'd hesitate to collaborate with individuals who hold this misconception, as their approach could potentially introduce a slew of bugs into the project.\n",
    "\n",
    "Now, let's delve into an example involving a list in Python.\n",
    "\n"
   ]
  },
  {
   "cell_type": "code",
   "execution_count": 3,
   "metadata": {
    "tags": []
   },
   "outputs": [
    {
     "name": "stdout",
     "output_type": "stream",
     "text": [
      "[1, 2, 3, 4, 5]\n"
     ]
    }
   ],
   "source": [
    "x = [1, 2, 3, 4, 5]\n",
    "print(x)"
   ]
  },
  {
   "attachments": {},
   "cell_type": "markdown",
   "metadata": {},
   "source": [
    "Let's assign it to a new variable `y` and change one of the elements in the list."
   ]
  },
  {
   "cell_type": "code",
   "execution_count": 4,
   "metadata": {
    "tags": []
   },
   "outputs": [
    {
     "name": "stdout",
     "output_type": "stream",
     "text": [
      "[0, 2, 3, 4, 5]\n"
     ]
    }
   ],
   "source": [
    "y = x\n",
    "y[0] = 0\n",
    "print(y)"
   ]
  },
  {
   "attachments": {},
   "cell_type": "markdown",
   "metadata": {},
   "source": [
    "Let's see what happened to `x`."
   ]
  },
  {
   "cell_type": "code",
   "execution_count": 5,
   "metadata": {
    "tags": []
   },
   "outputs": [
    {
     "name": "stdout",
     "output_type": "stream",
     "text": [
      "[0, 2, 3, 4, 5]\n"
     ]
    }
   ],
   "source": [
    "print(x)"
   ]
  },
  {
   "attachments": {},
   "cell_type": "markdown",
   "metadata": {
    "tags": []
   },
   "source": [
    "We modified only `y`, not `x`. Why is `x` also changed? Because `x` and `y` are internally pointers.\n",
    "\n",
    "When we created the list, `x`, a new list object was created and the address of the object was assigned to `x` as shown below.\n",
    "```\n",
    "   x\n",
    " +---+\n",
    " |  -|-------> [1, 2, 3, 4, 5] \n",
    " +---+\n",
    "```\n",
    "\n",
    "The variable `y` is not a new copy of the list. Instead, it is a copy of the value of `x`, the **address** of the list.\n",
    "\n",
    "```\n",
    "   x\n",
    " +---+\n",
    " |  -|-------> [1, 2, 3, 4, 5] \n",
    " +---+         ^ \n",
    "               |\n",
    "   y           |\n",
    " +---+         |\n",
    " |  -|---------+  \n",
    " +---+\n",
    "```\n",
    "\n",
    "So, when you modify `y` to `[0, 2, 3, 4, 5]`, the list becomes\n",
    "```\n",
    "   x\n",
    " +---+\n",
    " |  -|-------> [0, 2, 3, 4, 5] \n",
    " +---+         ^ \n",
    "               |\n",
    "   y           |\n",
    " +---+         |\n",
    " |  -|---------+  \n",
    " +---+\n",
    "```\n",
    "\n",
    "Then, how can we create a new copy of the list for `y`? We need to use `copy` in Python."
   ]
  },
  {
   "cell_type": "code",
   "execution_count": 23,
   "metadata": {
    "tags": []
   },
   "outputs": [],
   "source": [
    "import copy\n",
    "\n",
    "x = [1, 2, 3, 4, 5]\n",
    "y = copy.copy(x)"
   ]
  },
  {
   "attachments": {},
   "cell_type": "markdown",
   "metadata": {},
   "source": [
    "This will create a new copy of the list as shown below\n",
    "\n",
    "```\n",
    "   x\n",
    " +---+\n",
    " |  -|-------> [1, 2, 3, 4, 5] \n",
    " +---+          \n",
    "               \n",
    "   y           \n",
    " +---+         \n",
    " |  -|-------> [1, 2, 3, 4, 5] \n",
    " +---+\n",
    "```\n",
    "What would happen if you modify `y`? "
   ]
  },
  {
   "cell_type": "code",
   "execution_count": 24,
   "metadata": {},
   "outputs": [
    {
     "name": "stdout",
     "output_type": "stream",
     "text": [
      "[1, 2, 3, 4, 5]\n",
      "[0, 2, 3, 4, 5]\n"
     ]
    }
   ],
   "source": [
    "y[0] = 0\n",
    "print(x)\n",
    "print(y)"
   ]
  },
  {
   "attachments": {},
   "cell_type": "markdown",
   "metadata": {},
   "source": [
    "The list `x` remains intact because `x` and `y` are pointing at different objects as shown below.\n",
    "\n",
    "```\n",
    "   x\n",
    " +---+\n",
    " |  -|-------> [1, 2, 3, 4, 5] \n",
    " +---+          \n",
    "               \n",
    "   y           \n",
    " +---+         \n",
    " |  -|-------> [0, 2, 3, 4, 5] \n",
    " +---+\n",
    "```\n",
    "\n",
    "What if `x` is a list contaning another list?  Would the `copy` function create a completely seprate copy of `x`?"
   ]
  },
  {
   "cell_type": "code",
   "execution_count": 25,
   "metadata": {},
   "outputs": [
    {
     "name": "stdout",
     "output_type": "stream",
     "text": [
      "[1, 2, 3, 4, [5, 6, 7]]\n",
      "[1, 2, 3, 4, [5, 6, 7]]\n"
     ]
    }
   ],
   "source": [
    "x = [1, 2, 3, 4, [5, 6, 7]]\n",
    "print(x)\n",
    "y = copy.copy(x)\n",
    "print(y)"
   ]
  },
  {
   "cell_type": "code",
   "execution_count": 26,
   "metadata": {},
   "outputs": [
    {
     "name": "stdout",
     "output_type": "stream",
     "text": [
      "[1, 2, 3, 4, [5, 6, 7]]\n",
      "[0, 2, 3, 4, [5, 6, 7]]\n"
     ]
    }
   ],
   "source": [
    "y[0] = 0\n",
    "print(x)\n",
    "print(y)"
   ]
  },
  {
   "attachments": {},
   "cell_type": "markdown",
   "metadata": {},
   "source": [
    "Although it creates a copy of `x`, it is not a complete copy of `x`."
   ]
  },
  {
   "cell_type": "code",
   "execution_count": 27,
   "metadata": {},
   "outputs": [
    {
     "name": "stdout",
     "output_type": "stream",
     "text": [
      "[1, 2, 3, 4, [0, 6, 7]]\n",
      "[0, 2, 3, 4, [0, 6, 7]]\n"
     ]
    }
   ],
   "source": [
    "y[4][0] = 0\n",
    "print(x)\n",
    "print(y)"
   ]
  },
  {
   "attachments": {},
   "cell_type": "markdown",
   "metadata": {},
   "source": [
    "Since the last element of `x` is another list, x[4] is the address (pointer) of the list.  So, `x` and `y` can be depicted as shown below.\n",
    "\n",
    "```\n",
    "   x\n",
    " +---+\n",
    " |  -|-------> [1, 2, 3, 4, ( )] \n",
    " +---+                       |  \n",
    "                             +-----------> [0, 6, 7] \n",
    "                                           ^   \n",
    "                                           |\n",
    "   y                         +-------------+ \n",
    " +---+                       | \n",
    " |  -|-------> [0, 2, 3, 4, ( )] \n",
    " +---+\n",
    "```\n",
    "\n",
    "Since the Python `copy` function basically creates a _shallow_ copy, `x` and `y` are not completely different objects.\n",
    "\n",
    "Is there a way to create a complete copy of an object?  Yes and it is called a _deep_ copy. "
   ]
  },
  {
   "cell_type": "code",
   "execution_count": 28,
   "metadata": {},
   "outputs": [
    {
     "name": "stdout",
     "output_type": "stream",
     "text": [
      "[1, 2, 3, 4, [5, 6, 7]]\n",
      "[1, 2, 3, 4, [5, 6, 7]]\n"
     ]
    }
   ],
   "source": [
    "x = [1, 2, 3, 4, [5, 6, 7]]\n",
    "print(x)\n",
    "y = copy.deepcopy(x)\n",
    "print(y)"
   ]
  },
  {
   "cell_type": "code",
   "execution_count": 29,
   "metadata": {},
   "outputs": [
    {
     "name": "stdout",
     "output_type": "stream",
     "text": [
      "[1, 2, 3, 4, [5, 6, 7]]\n",
      "[0, 2, 3, 4, [5, 6, 7]]\n"
     ]
    }
   ],
   "source": [
    "y[0] = 0\n",
    "print(x)\n",
    "print(y)"
   ]
  },
  {
   "cell_type": "code",
   "execution_count": 30,
   "metadata": {},
   "outputs": [
    {
     "name": "stdout",
     "output_type": "stream",
     "text": [
      "[1, 2, 3, 4, [5, 6, 7]]\n",
      "[0, 2, 3, 4, [0, 6, 7]]\n"
     ]
    }
   ],
   "source": [
    "y[4][0] = 0\n",
    "print(x)\n",
    "print(y)"
   ]
  },
  {
   "attachments": {},
   "cell_type": "markdown",
   "metadata": {},
   "source": [
    "Now, `x` and `y` are compelely different objects and depicted as \n",
    "\n",
    "```\n",
    "   x\n",
    " +---+\n",
    " |  -|-------> [1, 2, 3, 4, ( )] \n",
    " +---+                       |  \n",
    "                             +-----------> [5, 6, 7] \n",
    "                                             \n",
    "                                           \n",
    "   y                         +-----------> [0, 6, 7] \n",
    " +---+                       | \n",
    " |  -|-------> [0, 2, 3, 4, ( )] \n",
    " +---+\n",
    "```"
   ]
  },
  {
   "attachments": {},
   "cell_type": "markdown",
   "metadata": {},
   "source": [
    "OK. Then, how come there is no notion of pointers in Python, Java, C#, and other programming languages?  In the world of C/C++, variable `x` can an object (structure in C) itself or a pointer to the object as shown below\n",
    "```           \n",
    "x is the object itself\n",
    "              x\n",
    "              [1, 2, 3, 4, 5]                    \n",
    "x is a pointer \n",
    "   x\n",
    " +---+\n",
    " |  -|-------> [1, 2, 3, 4, 5]      \n",
    " +---+                       \n",
    "```\n",
    "\n",
    "For example, in the following code, `point` is a structure and `ptr` is a pointer to the structure.\n",
    "\n",
    "```C\n",
    "struct Point {\n",
    "    int x;\n",
    "    int y;\n",
    "};\n",
    "\n",
    "struct Point point = {320, 200};\n",
    "struct Point *ptr = &point;\n",
    "```\n",
    "```           \n",
    "             point\n",
    "             (x = 1, y = 2)                    \n",
    "  ptr        ^\n",
    " +---+       |\n",
    " |  -|------->     \n",
    " +---+                       \n",
    "```\n",
    "\n",
    "Unlike C and C++, in most other programming languages like Python, Java, and C#, objects are accessed using only pointers (`ptr` in the above example) because there does not exist a varible that is an object itself (`point` in the above example). For example, the declaration in Java\n",
    "```Java\n",
    "MyClass x;\n",
    "```\n",
    "does not mean that **x contains objects of type MyClass,** but rather that **x contains _pointers_ to objects of type MyClass (or null).**  However, because it is extremely burdensome always to be saying \"x contains a pointer to MyClass\", the universal practice is just to say \"x is a P.\"  \n",
    "\n",
    "Do you still think you can write code in Python/Java/C# with no clear understanding of pointers?\n",
    "Dude, even MATLAB has pointers!\n"
   ]
  },
  {
   "cell_type": "code",
   "execution_count": null,
   "metadata": {},
   "outputs": [],
   "source": []
  }
 ],
 "metadata": {
  "colab": {
   "collapsed_sections": []
  },
  "interpreter": {
   "hash": "31f2aee4e71d21fbe5cf8b01ff0e069b9275f58929596ceb00d14d90e3e16cd6"
  },
  "kernelspec": {
   "display_name": "Python 3 (ipykernel)",
   "language": "python",
   "name": "python3"
  },
  "language_info": {
   "codemirror_mode": {
    "name": "ipython",
    "version": 3
   },
   "file_extension": ".py",
   "mimetype": "text/x-python",
   "name": "python",
   "nbconvert_exporter": "python",
   "pygments_lexer": "ipython3",
   "version": "3.10.9"
  }
 },
 "nbformat": 4,
 "nbformat_minor": 4
}
